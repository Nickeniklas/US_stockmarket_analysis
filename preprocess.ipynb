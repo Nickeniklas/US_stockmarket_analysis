{
 "cells": [
  {
   "cell_type": "markdown",
   "id": "3d0f2e4c",
   "metadata": {},
   "source": [
    "## Preprocess MAANG companies stock market data\n",
    "\n",
    "- Import libraries  \n",
    "- Load raw data (CSV, API, etc.)  \n",
    "- Handle missing values / duplicates  \n",
    "- Feature engineering  \n",
    "- Save processed data to file (e.g., `data/processed.csv`)\n",
    "\n",
    "Dataset by SOUMENDRA PRASAD MOHANTY on Kaggle: https://www.kaggle.com/datasets/soumendraprasad/stock"
   ]
  },
  {
   "cell_type": "code",
   "execution_count": 7,
   "id": "ca68f68c",
   "metadata": {},
   "outputs": [],
   "source": [
    "import pandas as pd\n",
    "import numpy as np\n",
    "import matplotlib as mpl\n",
    "import os"
   ]
  },
  {
   "cell_type": "code",
   "execution_count": 3,
   "id": "f9b3bc86",
   "metadata": {},
   "outputs": [
    {
     "data": {
      "text/html": [
       "<div>\n",
       "<style scoped>\n",
       "    .dataframe tbody tr th:only-of-type {\n",
       "        vertical-align: middle;\n",
       "    }\n",
       "\n",
       "    .dataframe tbody tr th {\n",
       "        vertical-align: top;\n",
       "    }\n",
       "\n",
       "    .dataframe thead th {\n",
       "        text-align: right;\n",
       "    }\n",
       "</style>\n",
       "<table border=\"1\" class=\"dataframe\">\n",
       "  <thead>\n",
       "    <tr style=\"text-align: right;\">\n",
       "      <th></th>\n",
       "      <th>Open</th>\n",
       "      <th>High</th>\n",
       "      <th>Low</th>\n",
       "      <th>Close</th>\n",
       "      <th>Adj Close</th>\n",
       "      <th>Volume</th>\n",
       "      <th>Date</th>\n",
       "    </tr>\n",
       "  </thead>\n",
       "  <tbody>\n",
       "    <tr>\n",
       "      <th>0</th>\n",
       "      <td>0.936384</td>\n",
       "      <td>1.004464</td>\n",
       "      <td>0.907924</td>\n",
       "      <td>0.999442</td>\n",
       "      <td>0.850643</td>\n",
       "      <td>535796800</td>\n",
       "      <td>2000-01-03</td>\n",
       "    </tr>\n",
       "    <tr>\n",
       "      <th>1</th>\n",
       "      <td>0.966518</td>\n",
       "      <td>0.987723</td>\n",
       "      <td>0.903460</td>\n",
       "      <td>0.915179</td>\n",
       "      <td>0.778926</td>\n",
       "      <td>512377600</td>\n",
       "      <td>2000-01-04</td>\n",
       "    </tr>\n",
       "    <tr>\n",
       "      <th>2</th>\n",
       "      <td>0.926339</td>\n",
       "      <td>0.987165</td>\n",
       "      <td>0.919643</td>\n",
       "      <td>0.928571</td>\n",
       "      <td>0.790324</td>\n",
       "      <td>778321600</td>\n",
       "      <td>2000-01-05</td>\n",
       "    </tr>\n",
       "  </tbody>\n",
       "</table>\n",
       "</div>"
      ],
      "text/plain": [
       "       Open      High       Low     Close  Adj Close     Volume        Date\n",
       "0  0.936384  1.004464  0.907924  0.999442   0.850643  535796800  2000-01-03\n",
       "1  0.966518  0.987723  0.903460  0.915179   0.778926  512377600  2000-01-04\n",
       "2  0.926339  0.987165  0.919643  0.928571   0.790324  778321600  2000-01-05"
      ]
     },
     "execution_count": 3,
     "metadata": {},
     "output_type": "execute_result"
    }
   ],
   "source": [
    "raw_AAPL = pd.read_csv('data/Apple.csv')\n",
    "raw_AAPL.head(3)"
   ]
  },
  {
   "cell_type": "code",
   "execution_count": 17,
   "id": "d9b99aa4",
   "metadata": {},
   "outputs": [],
   "source": [
    "# load all CSV files\n",
    "data_path = \"data/raw\"\n",
    "company_names = [\"Microsoft\", \"Apple\", \"Amazon\", \"Netflix\", \"Google\"]\n",
    "\n",
    "dfs = {}\n",
    "\n",
    "for name in company_names:\n",
    "    file_path = os.path.join(data_path, f\"{name}.csv\")\n",
    "    df = pd.read_csv(file_path)\n",
    "    df[\"Company\"] = name  # add identifier column\n",
    "    dfs[name] = df"
   ]
  },
  {
   "cell_type": "code",
   "execution_count": 18,
   "id": "2defd5f5",
   "metadata": {},
   "outputs": [
    {
     "data": {
      "text/html": [
       "<div>\n",
       "<style scoped>\n",
       "    .dataframe tbody tr th:only-of-type {\n",
       "        vertical-align: middle;\n",
       "    }\n",
       "\n",
       "    .dataframe tbody tr th {\n",
       "        vertical-align: top;\n",
       "    }\n",
       "\n",
       "    .dataframe thead th {\n",
       "        text-align: right;\n",
       "    }\n",
       "</style>\n",
       "<table border=\"1\" class=\"dataframe\">\n",
       "  <thead>\n",
       "    <tr style=\"text-align: right;\">\n",
       "      <th></th>\n",
       "      <th>Open</th>\n",
       "      <th>High</th>\n",
       "      <th>Low</th>\n",
       "      <th>Close</th>\n",
       "      <th>Adj Close</th>\n",
       "      <th>Volume</th>\n",
       "      <th>Date</th>\n",
       "      <th>Company</th>\n",
       "    </tr>\n",
       "  </thead>\n",
       "  <tbody>\n",
       "    <tr>\n",
       "      <th>0</th>\n",
       "      <td>58.68750</td>\n",
       "      <td>59.3125</td>\n",
       "      <td>56.0000</td>\n",
       "      <td>58.28125</td>\n",
       "      <td>36.361576</td>\n",
       "      <td>53228400</td>\n",
       "      <td>2000-01-03</td>\n",
       "      <td>Microsoft</td>\n",
       "    </tr>\n",
       "    <tr>\n",
       "      <th>1</th>\n",
       "      <td>56.78125</td>\n",
       "      <td>58.5625</td>\n",
       "      <td>56.1250</td>\n",
       "      <td>56.31250</td>\n",
       "      <td>35.133263</td>\n",
       "      <td>54119000</td>\n",
       "      <td>2000-01-04</td>\n",
       "      <td>Microsoft</td>\n",
       "    </tr>\n",
       "    <tr>\n",
       "      <th>2</th>\n",
       "      <td>55.56250</td>\n",
       "      <td>58.1875</td>\n",
       "      <td>54.6875</td>\n",
       "      <td>56.90625</td>\n",
       "      <td>35.503712</td>\n",
       "      <td>64059600</td>\n",
       "      <td>2000-01-05</td>\n",
       "      <td>Microsoft</td>\n",
       "    </tr>\n",
       "  </tbody>\n",
       "</table>\n",
       "</div>"
      ],
      "text/plain": [
       "       Open     High      Low     Close  Adj Close    Volume        Date  \\\n",
       "0  58.68750  59.3125  56.0000  58.28125  36.361576  53228400  2000-01-03   \n",
       "1  56.78125  58.5625  56.1250  56.31250  35.133263  54119000  2000-01-04   \n",
       "2  55.56250  58.1875  54.6875  56.90625  35.503712  64059600  2000-01-05   \n",
       "\n",
       "     Company  \n",
       "0  Microsoft  \n",
       "1  Microsoft  \n",
       "2  Microsoft  "
      ]
     },
     "execution_count": 18,
     "metadata": {},
     "output_type": "execute_result"
    }
   ],
   "source": [
    "dfs[\"Microsoft\"].head(3)"
   ]
  },
  {
   "cell_type": "code",
   "execution_count": 24,
   "id": "ceca78b3",
   "metadata": {},
   "outputs": [
    {
     "data": {
      "text/html": [
       "<div>\n",
       "<style scoped>\n",
       "    .dataframe tbody tr th:only-of-type {\n",
       "        vertical-align: middle;\n",
       "    }\n",
       "\n",
       "    .dataframe tbody tr th {\n",
       "        vertical-align: top;\n",
       "    }\n",
       "\n",
       "    .dataframe thead th {\n",
       "        text-align: right;\n",
       "    }\n",
       "</style>\n",
       "<table border=\"1\" class=\"dataframe\">\n",
       "  <thead>\n",
       "    <tr style=\"text-align: right;\">\n",
       "      <th></th>\n",
       "      <th>Open</th>\n",
       "      <th>High</th>\n",
       "      <th>Low</th>\n",
       "      <th>Close</th>\n",
       "      <th>Adj Close</th>\n",
       "      <th>Volume</th>\n",
       "      <th>Date</th>\n",
       "      <th>Company</th>\n",
       "    </tr>\n",
       "  </thead>\n",
       "  <tbody>\n",
       "    <tr>\n",
       "      <th>7749</th>\n",
       "      <td>4.682500</td>\n",
       "      <td>4.750000</td>\n",
       "      <td>4.467500</td>\n",
       "      <td>4.513929</td>\n",
       "      <td>3.841888</td>\n",
       "      <td>1125395600</td>\n",
       "      <td>2007-08-09</td>\n",
       "      <td>Apple</td>\n",
       "    </tr>\n",
       "    <tr>\n",
       "      <th>9551</th>\n",
       "      <td>24.987499</td>\n",
       "      <td>25.162500</td>\n",
       "      <td>24.855000</td>\n",
       "      <td>24.905001</td>\n",
       "      <td>22.287283</td>\n",
       "      <td>148204800</td>\n",
       "      <td>2014-10-06</td>\n",
       "      <td>Apple</td>\n",
       "    </tr>\n",
       "    <tr>\n",
       "      <th>20296</th>\n",
       "      <td>31.234285</td>\n",
       "      <td>31.545713</td>\n",
       "      <td>30.807142</td>\n",
       "      <td>31.459999</td>\n",
       "      <td>31.459999</td>\n",
       "      <td>15299200</td>\n",
       "      <td>2013-06-07</td>\n",
       "      <td>Netflix</td>\n",
       "    </tr>\n",
       "  </tbody>\n",
       "</table>\n",
       "</div>"
      ],
      "text/plain": [
       "            Open       High        Low      Close  Adj Close      Volume  \\\n",
       "7749    4.682500   4.750000   4.467500   4.513929   3.841888  1125395600   \n",
       "9551   24.987499  25.162500  24.855000  24.905001  22.287283   148204800   \n",
       "20296  31.234285  31.545713  30.807142  31.459999  31.459999    15299200   \n",
       "\n",
       "             Date  Company  \n",
       "7749   2007-08-09    Apple  \n",
       "9551   2014-10-06    Apple  \n",
       "20296  2013-06-07  Netflix  "
      ]
     },
     "execution_count": 24,
     "metadata": {},
     "output_type": "execute_result"
    }
   ],
   "source": [
    "combined_df = pd.concat(dfs.values(), ignore_index=True)\n",
    "combined_df.sample(3)"
   ]
  },
  {
   "cell_type": "code",
   "execution_count": null,
   "id": "dbc97bb0",
   "metadata": {},
   "outputs": [
    {
     "data": {
      "text/plain": [
       "np.False_"
      ]
     },
     "execution_count": 25,
     "metadata": {},
     "output_type": "execute_result"
    }
   ],
   "source": [
    "# check for missing values \n",
    "combined_df.isna().any().any()"
   ]
  },
  {
   "cell_type": "code",
   "execution_count": 27,
   "id": "1b159d54",
   "metadata": {},
   "outputs": [],
   "source": [
    "# pd date time and sort values\n",
    "combined_df[\"Date\"] = pd.to_datetime(combined_df[\"Date\"])\n",
    "combined_df = combined_df.sort_values([\"Company\", \"Date\"])"
   ]
  },
  {
   "cell_type": "code",
   "execution_count": 28,
   "id": "7cd3faad",
   "metadata": {},
   "outputs": [],
   "source": [
    "combined_df.to_csv(\"data/processed/maang_combined.csv\", index=False)\n"
   ]
  }
 ],
 "metadata": {
  "kernelspec": {
   "display_name": ".venv",
   "language": "python",
   "name": "python3"
  },
  "language_info": {
   "codemirror_mode": {
    "name": "ipython",
    "version": 3
   },
   "file_extension": ".py",
   "mimetype": "text/x-python",
   "name": "python",
   "nbconvert_exporter": "python",
   "pygments_lexer": "ipython3",
   "version": "3.12.2"
  }
 },
 "nbformat": 4,
 "nbformat_minor": 5
}
