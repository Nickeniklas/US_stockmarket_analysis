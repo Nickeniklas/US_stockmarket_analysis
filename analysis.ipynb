{
 "cells": [
  {
   "cell_type": "markdown",
   "id": "6cedeb00",
   "metadata": {},
   "source": [
    "## Data Analysis on MAANG companies stock data\n",
    "\n",
    "Preprocessed data: data/processed/maang_combined.csv\n",
    "\n",
    "original data by SOUMENDRA PRASAD MOHANTY"
   ]
  },
  {
   "cell_type": "code",
   "execution_count": null,
   "id": "02c022c6",
   "metadata": {},
   "outputs": [],
   "source": [
    "import pandas as pd\n",
    "import numpy as np\n",
    "import matplotlib as mpl\n",
    "import os"
   ]
  },
  {
   "cell_type": "code",
   "execution_count": null,
   "id": "90d32c9f",
   "metadata": {},
   "outputs": [],
   "source": [
    "data = pd.read_csv('data/processed/maang_combined.csv')\n",
    "data.head(3)"
   ]
  },
  {
   "cell_type": "code",
   "execution_count": null,
   "id": "d8217ef7",
   "metadata": {},
   "outputs": [],
   "source": []
  }
 ],
 "metadata": {
  "kernelspec": {
   "display_name": ".venv",
   "language": "python",
   "name": "python3"
  },
  "language_info": {
   "name": "python",
   "version": "3.12.2"
  }
 },
 "nbformat": 4,
 "nbformat_minor": 5
}
